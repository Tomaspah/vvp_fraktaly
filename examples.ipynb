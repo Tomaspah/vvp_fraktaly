{
 "cells": [
  {
   "cell_type": "markdown",
   "id": "c6167b6c",
   "metadata": {},
   "source": [
    "# Vizualizace fraktálů\n",
    "\n",
    "Tento projekt se zaměřuje na vizualizaci fraktálů. Součástí projektu bylo implementovat efektivní algortmy\n",
    "pro generování Mandelbrotovy a Juliovy množiny, aby byla vizualiazace responzivní.\n",
    "\n",
    "\n"
   ]
  },
  {
   "cell_type": "code",
   "execution_count": 28,
   "id": "b3fcc7ba",
   "metadata": {},
   "outputs": [
    {
     "data": {
      "text/plain": [
       "<module 'julia' from '/home/tompaholik/vvp-pr/vvp_fraktaly/./projekt/julia.py'>"
      ]
     },
     "execution_count": 28,
     "metadata": {},
     "output_type": "execute_result"
    }
   ],
   "source": [
    "import sys\n",
    "sys.path.append('./projekt')\n",
    "\n",
    "import importlib\n",
    "\n",
    "import mandelbrot\n",
    "import julia\n",
    "\n",
    "importlib.reload(mandelbrot)\n",
    "importlib.reload(julia)"
   ]
  },
  {
   "cell_type": "markdown",
   "id": "41c11745",
   "metadata": {},
   "source": [
    "## Mandelbrotova množina\n",
    "\n",
    "Funkce níže spustí vizualizaci Mandelbrotovy množiny. Není třeba nastavovat žádné parametry,\n",
    "protože všechno potřebné je nastaveno ve funckcích. Po spuštení se vygeneruje interaktivní\n",
    "vizualizace a vám stačí jen posunovat parametry pomocí posuvníku dle libosti.\n",
    "\n",
    "### Interaktivní parametry:\n",
    "- Rozlišení (počet pixelů stran)\n",
    "- Počet iterací\n",
    "- Posuvník po realné ose (x)\n",
    "- Posuvník po imaginarní ose (y)\n",
    "- Příblížení na střed\n",
    "- A dále výběr z pár barevných map (pomocí tlačítek)\n",
    "\n",
    "Pro reset stačí znovu spustit buňku."
   ]
  },
  {
   "cell_type": "code",
   "execution_count": 2,
   "id": "b400e139",
   "metadata": {},
   "outputs": [
    {
     "data": {
      "application/vnd.jupyter.widget-view+json": {
       "model_id": "eb235c41e15145f6b23b5e3e844f94cb",
       "version_major": 2,
       "version_minor": 0
      },
      "text/plain": [
       "interactive(children=(IntSlider(value=500, description='Rozlišení', max=2500, min=50, step=50), IntSlider(valu…"
      ]
     },
     "metadata": {},
     "output_type": "display_data"
    }
   ],
   "source": [
    "mandelbrot.interactive_mandelbrot()\n",
    "\n"
   ]
  },
  {
   "cell_type": "markdown",
   "id": "d421791a",
   "metadata": {},
   "source": [
    "## Juliova množina\n",
    "\n",
    "Funkce níže spustí vizualizaci Juliovy množiny. Není třeba nastavovat žádné parametry,\n",
    "protože všechno potřebné je nastaveno ve funckcích. Po spuštení se vygeneruje interaktivní\n",
    "vizualizace a vám stačí jen posunovat parametry pomocí posuvníku dle libosti.\n",
    "\n",
    "### Interaktivní parametry:\n",
    "- Rozlišení (počet pixelů stran)\n",
    "- Počet iterací\n",
    "- Velikost komplexního čísla c\n",
    "- Posuvník po realné ose (x)\n",
    "- Posuvník po imaginarní ose (y)\n",
    "- Příblížení na střed\n",
    "- A dále výběr z pár barevných map (pomocí tlačítek)\n",
    "\n",
    "Pro reset stačí znovu spustit buňku."
   ]
  },
  {
   "cell_type": "code",
   "execution_count": 3,
   "id": "15277618",
   "metadata": {},
   "outputs": [
    {
     "data": {
      "application/vnd.jupyter.widget-view+json": {
       "model_id": "5ffd6bb1a8bd4b24884daa35a96cf8b0",
       "version_major": 2,
       "version_minor": 0
      },
      "text/plain": [
       "interactive(children=(IntSlider(value=1000, description='Rozlišení', max=2500, min=50, step=50), IntSlider(val…"
      ]
     },
     "metadata": {},
     "output_type": "display_data"
    }
   ],
   "source": [
    "julia.interactive_julia()"
   ]
  },
  {
   "cell_type": "markdown",
   "id": "511f77fd",
   "metadata": {},
   "source": [
    "## Efektivnost funkcí\n",
    "\n",
    "Součástí projektu bylo napsat funkce pro generace množin tak, aby byly co nejmíň časově náročné.\n",
    "Níže je možnost porovnat, jak moc se funkce zrychlí pomocí Numba."
   ]
  },
  {
   "cell_type": "code",
   "execution_count": 36,
   "id": "838382b4",
   "metadata": {},
   "outputs": [],
   "source": [
    "n1=1000\n",
    "k1=200\n",
    "n2=2000\n",
    "k2=500"
   ]
  },
  {
   "cell_type": "code",
   "execution_count": null,
   "id": "a36155c1",
   "metadata": {},
   "outputs": [
    {
     "name": "stdout",
     "output_type": "stream",
     "text": [
      "23.2 ms ± 401 μs per loop (mean ± std. dev. of 7 runs, 10 loops each)\n"
     ]
    }
   ],
   "source": [
    "%timeit mandelbrot.mandelbrot_set(n=n1, k=k1)"
   ]
  },
  {
   "cell_type": "code",
   "execution_count": null,
   "id": "ed829d64",
   "metadata": {},
   "outputs": [
    {
     "name": "stdout",
     "output_type": "stream",
     "text": [
      "9.41 ms ± 294 μs per loop (mean ± std. dev. of 7 runs, 1 loop each)\n"
     ]
    }
   ],
   "source": [
    "%timeit julia.julia_set(n=n1, k=k1)"
   ]
  },
  {
   "cell_type": "markdown",
   "id": "c6f10016",
   "metadata": {},
   "source": [
    "Niže je použita implementace Mandelbrotovy množiny pomocí masky:"
   ]
  },
  {
   "cell_type": "code",
   "execution_count": null,
   "id": "a1ffecbf",
   "metadata": {},
   "outputs": [
    {
     "name": "stdout",
     "output_type": "stream",
     "text": [
      "812 ms ± 15.9 ms per loop (mean ± std. dev. of 7 runs, 1 loop each)\n"
     ]
    }
   ],
   "source": [
    "%timeit mandelbrot.old_mandelbrot_set(n=n1, k=k1)"
   ]
  },
  {
   "cell_type": "markdown",
   "id": "d8b2da1d",
   "metadata": {},
   "source": [
    "### Už jen při nízkých hodnotách jde vidět velký rozdíl, který se bude se zvyšujícími se čísly jen zvětšovat."
   ]
  },
  {
   "cell_type": "code",
   "execution_count": 37,
   "id": "52c826f7",
   "metadata": {},
   "outputs": [
    {
     "name": "stdout",
     "output_type": "stream",
     "text": [
      "224 ms ± 1.87 ms per loop (mean ± std. dev. of 7 runs, 1 loop each)\n"
     ]
    }
   ],
   "source": [
    "%timeit mandelbrot.mandelbrot_set(n=n2, k=k2)"
   ]
  },
  {
   "cell_type": "code",
   "execution_count": 38,
   "id": "46287464",
   "metadata": {},
   "outputs": [
    {
     "name": "stdout",
     "output_type": "stream",
     "text": [
      "50.1 ms ± 515 μs per loop (mean ± std. dev. of 7 runs, 10 loops each)\n"
     ]
    }
   ],
   "source": [
    "%timeit julia.julia_set(n=n2, k=k2)"
   ]
  },
  {
   "cell_type": "code",
   "execution_count": 39,
   "id": "8c5059f0",
   "metadata": {},
   "outputs": [
    {
     "name": "stdout",
     "output_type": "stream",
     "text": [
      "9.53 s ± 138 ms per loop (mean ± std. dev. of 7 runs, 1 loop each)\n"
     ]
    }
   ],
   "source": [
    "%timeit mandelbrot.old_mandelbrot_set(n=n2, k=k2)"
   ]
  }
 ],
 "metadata": {
  "kernelspec": {
   "display_name": "Python 3",
   "language": "python",
   "name": "python3"
  },
  "language_info": {
   "codemirror_mode": {
    "name": "ipython",
    "version": 3
   },
   "file_extension": ".py",
   "mimetype": "text/x-python",
   "name": "python",
   "nbconvert_exporter": "python",
   "pygments_lexer": "ipython3",
   "version": "3.10.12"
  }
 },
 "nbformat": 4,
 "nbformat_minor": 5
}
