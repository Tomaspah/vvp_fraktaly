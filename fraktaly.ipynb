{
 "cells": [
  {
   "cell_type": "markdown",
   "id": "3b42d911",
   "metadata": {},
   "source": [
    "# Vizualizace fraktálů\n",
    "\n",
    "## Textový popis\n",
    "\n",
    "Tento projekt se zaměřuje na vizualizaci fraktálů. Cílem je\n",
    "implementovat algoritmy pro efektivní generování známých fraktálů, jako\n",
    "jsou Mandelbrotova a Juliova množina (pro\n",
    "$f\\left(z\\right)=z^{2}+c,c\\in\\mathbb{C}$), a vytvořit interaktivní\n",
    "vizualizace (viz [Matplotlib\n",
    "widgets](https://matplotlib.org/stable/gallery/widgets/index.html))\n",
    "těchto fraktálů pomocí knihovny Matplotlib. Možností je také využít knihovnu [Pygame](https://www.pygame.org/news) pro vytvoření interaktivních vizualizací.\n",
    "\n",
    "Výstupem projektu budou interaktivní vizualizace fraktálů, které\n",
    "umožňují uživateli prozkoumávat různé části fraktálu a přizpůsobovat\n",
    "parametry pro generování fraktálů ($c\\in\\mathbb{C}$ pro Juliovu\n",
    "množinu).\n",
    "\n",
    "## Funkcionality\n",
    "\n",
    "- Implementovat algoritmus pro efektivní generování Mandelbrotovy\n",
    "  množiny pomocí knihoven NumPy a Numba\n",
    "- Implementovat algoritmus pro efektivní generování Juliovy množiny\n",
    "  (pro $f\\left(z\\right)=z^{2}+c,c\\in\\mathbb{C}$) pomocí knihoven NumPy a Numba\n",
    "- Vytvořit funkci pro vizualizaci fraktálů pomocí knihovny Matplotlib,\n",
    "  která zobrazuje fraktály pomocí barevného mapování podle iterací\n",
    "  potřebných k dosažení určitého prahu\n",
    "- Implementovat interaktivní prvky vizualizace, které umožňují\n",
    "  uživateli (v případě implementace skrze Pygame lze nahradit ovladáním klávesnicí a myší):\n",
    "  - přiblížit nebo oddálit fraktál\n",
    "  - měnit barevné schéma vykreslení počtu iterací do divergence\n",
    "  - přizpůsobovat parametry pro generování fraktálů (např. počet\n",
    "    iterací, $c$)"
   ]
  },
  {
   "cell_type": "code",
   "execution_count": 1,
   "id": "b61959c0",
   "metadata": {},
   "outputs": [],
   "source": [
    "import numpy as np\n",
    "import matplotlib.pyplot as plt\n",
    "import numba\n",
    "from ipywidgets import interact, IntSlider, ToggleButtons, FloatSlider"
   ]
  },
  {
   "cell_type": "markdown",
   "id": "1fd74f33",
   "metadata": {},
   "source": [
    "# Interaktivní implementace Mandelbrotovy množiny"
   ]
  },
  {
   "cell_type": "code",
   "execution_count": 2,
   "id": "5ac17282",
   "metadata": {},
   "outputs": [],
   "source": [
    "@numba.njit(parallel=True)\n",
    "def mandelbrot_set(x_min=-2.0, x_max=1.0, y_min=-1.5, y_max=1.5, n=500, k=100, x=0, y=0, zoom=1.0):\n",
    "    scale = 1.0 / zoom\n",
    "    x_min *= scale\n",
    "    x_max *= scale\n",
    "    y_min *= scale\n",
    "    y_max *= scale\n",
    "    re = np.linspace(x_min+x, x_max+x, n)\n",
    "    im = np.linspace(y_min+y, y_max+y, n)\n",
    "    \n",
    "    divergence_matrix = np.full((n, n), k, dtype=np.int32)\n",
    "    \n",
    "    # Prochazeni vsech bodu v rovine\n",
    "    for ix in numba.prange(n):\n",
    "        for iy in range(n):\n",
    "            c = re[ix] + 1j * im[iy]\n",
    "            z = 0.0 + 0.0j\n",
    "            \n",
    "            # Iterace pro vypocet Mandelbrotovy posloupnosti\n",
    "            for i in range(k):\n",
    "                z = z * z + c\n",
    "                \n",
    "                # Kontrola divergence, pokud |z| > 2 (bez pouziti numpy, nebot to zpomaluje celou funcki)\n",
    "                if (z.real * z.real + z.imag * z.imag) > 4.0:\n",
    "                    divergence_matrix[ix, iy] = i\n",
    "                    break\n",
    "                    \n",
    "    return divergence_matrix\n"
   ]
  },
  {
   "cell_type": "code",
   "execution_count": 3,
   "id": "ec71214a",
   "metadata": {},
   "outputs": [],
   "source": [
    "n = 2500\n",
    "k = 500"
   ]
  },
  {
   "cell_type": "code",
   "execution_count": 4,
   "id": "375df9f7",
   "metadata": {},
   "outputs": [
    {
     "name": "stdout",
     "output_type": "stream",
     "text": [
      "342 ms ± 3.54 ms per loop (mean ± std. dev. of 7 runs, 1 loop each)\n"
     ]
    }
   ],
   "source": [
    "%timeit mandelbrot_set(n=n, k=k)"
   ]
  },
  {
   "cell_type": "markdown",
   "id": "0c986a74",
   "metadata": {},
   "source": [
    "### Něco o funkčnosti\n",
    "Manderbrotova množina obshahuje interktivní slidery pro parametry:\n",
    "- Rozlišení (počet pixelů stran)\n",
    "- Počet iterací\n",
    "- Posuvník po realné ose (x)\n",
    "- Posuvník po imaginarní ose (y)\n",
    "- Příblížení na střed\n",
    "- A dále výběr z pár barevných map (pomocí tlačítek)\n",
    "\n",
    "Resetovat parametry se dá pomocí opětovného spuštění buňky pod tímhle textem\n",
    "\n"
   ]
  },
  {
   "cell_type": "code",
   "execution_count": 5,
   "id": "ffe2befa",
   "metadata": {},
   "outputs": [
    {
     "data": {
      "application/vnd.jupyter.widget-view+json": {
       "model_id": "2ef5a19fb360424e8402cc6a5656b6d4",
       "version_major": 2,
       "version_minor": 0
      },
      "text/plain": [
       "interactive(children=(IntSlider(value=500, description='Rozlišení', max=2500, min=50, step=50), IntSlider(valu…"
      ]
     },
     "metadata": {},
     "output_type": "display_data"
    }
   ],
   "source": [
    "def plot_mandelbrot(n=500, k=100, cmap='hot', x=0, y=0, zoom=1.0):\n",
    "    data = mandelbrot_set(n=n, k=k, x=x, y=y, zoom=zoom)\n",
    "    plt.figure(figsize=(9, 8))\n",
    "    plt.imshow(data.T, cmap=cmap, origin='lower', extent=[-2.0, 1.0, -1.5, 1.5])\n",
    "    plt.colorbar(label='Počet iterací do divergence')\n",
    "    plt.title(f'Mandelbrotova množina (k={k}, n={n})')\n",
    "    plt.show()\n",
    "\n",
    "# Interaktivni slidery, tlacitka\n",
    "interact(plot_mandelbrot,\n",
    "         n=IntSlider(min=50, max=2500, step=50, value=500, description='Rozlišení'),\n",
    "         k=IntSlider(min=5, max=500, step=5, value=100, description='Iterace'),\n",
    "         cmap=ToggleButtons(options=['hot', 'viridis', 'inferno', 'gray', 'turbo'], value='hot', description='Barevná mapa'),\n",
    "         x=FloatSlider(min=-2.0, max=2.0, step=0.01, value=0.0, description='Posun v x'),\n",
    "         y=FloatSlider(min=-2.0, max=2.0, step=0.01, value=0.0, description='Posun v y'),\n",
    "         zoom=FloatSlider(min=1.0, max=50.0, step=0.5, value=1.0, description='Priblížení'));"
   ]
  },
  {
   "cell_type": "markdown",
   "id": "be4b86a9",
   "metadata": {},
   "source": [
    "# Interaktivni implementace Juliovy mnoziny"
   ]
  },
  {
   "cell_type": "code",
   "execution_count": 6,
   "id": "10dd98d0",
   "metadata": {},
   "outputs": [],
   "source": [
    "@numba.njit(parallel=True)\n",
    "def julia_set(c_real=-0.7, c_imag=0.27, x_min=-2.0, x_max=2.0, y_min=-2.0, y_max=2.0, n=1000, k=200, x=0.0, y=0.0, zoom=1.0):\n",
    "    \n",
    "    scale = 1.0 / zoom\n",
    "    x_min *= scale\n",
    "    x_max *= scale\n",
    "    y_min *= scale\n",
    "    y_max *= scale\n",
    "    re = np.linspace(x_min + x, x_max + x, n)\n",
    "    im = np.linspace(y_min + y, y_max + y, n)\n",
    "    \n",
    "    divergence_matrix = np.full((n, n), k, dtype=np.int32)\n",
    "    \n",
    "    c = complex(c_real, c_imag)\n",
    "    \n",
    "    # Velice podobna s Mandelbrotovou mnozinou, akorat je c pevne nastavene\n",
    "    for ix in numba.prange(n):\n",
    "        for iy in range(n):\n",
    "            z = re[ix] + 1j * im[iy]\n",
    "            \n",
    "            for i in range(k):\n",
    "                z = z * z + c\n",
    "                if (z.real * z.real + z.imag * z.imag) > 4.0:\n",
    "                    divergence_matrix[ix, iy] = i\n",
    "                    break\n",
    "                    \n",
    "    return divergence_matrix"
   ]
  },
  {
   "cell_type": "code",
   "execution_count": 7,
   "id": "838ef9f2",
   "metadata": {},
   "outputs": [
    {
     "name": "stdout",
     "output_type": "stream",
     "text": [
      "49.8 ms ± 1.34 ms per loop (mean ± std. dev. of 7 runs, 1 loop each)\n"
     ]
    }
   ],
   "source": [
    "%timeit julia_set(n=2000, k=500)"
   ]
  },
  {
   "cell_type": "markdown",
   "id": "ad50275c",
   "metadata": {},
   "source": [
    "### Něco o funkčnosti\n",
    "Juliova množina obshahuje interktivní slidery pro parametry:\n",
    "- Rozlišení (počet pixelů stran)\n",
    "- Počet iterací\n",
    "- Velikost komplexního čísla c\n",
    "- Posuvník po realné ose (x)\n",
    "- Posuvník po imaginarní ose (y)\n",
    "- Příblížení na střed\n",
    "- A dále výběr z pár barevných map (pomocí tlačítek)\n",
    "\n",
    "Resetovat parametry se dá pomocí opětovného spuštění buňky pod tímhle textem"
   ]
  },
  {
   "cell_type": "code",
   "execution_count": 8,
   "id": "958d76ff",
   "metadata": {},
   "outputs": [
    {
     "data": {
      "application/vnd.jupyter.widget-view+json": {
       "model_id": "fd032ad48b6044b9a4274475b50d8844",
       "version_major": 2,
       "version_minor": 0
      },
      "text/plain": [
       "interactive(children=(IntSlider(value=1000, description='Rozlišení', max=2500, min=50, step=50), IntSlider(val…"
      ]
     },
     "metadata": {},
     "output_type": "display_data"
    }
   ],
   "source": [
    "def plot_julia(n=1000, k=200, c_real=-0.7, c_imag=0.27015, cmap='hot', x=0, y=0, zoom=1.0):\n",
    "    data = julia_set(n=n, k=k, c_real=c_real, c_imag=c_imag, x=x, y=y, zoom=zoom)\n",
    "    plt.figure(figsize=(9, 8))\n",
    "    plt.imshow(data.T, cmap=cmap, origin='lower', extent=[-2.0, 2.0, -2.0, 2.0])\n",
    "    plt.colorbar(label='Počet iterací do divergence')\n",
    "    plt.title(f'Juliova množina (k={k}, n={n})')\n",
    "    plt.show()\n",
    "\n",
    "# Interaktivni slidery, tlacitka\n",
    "interact(plot_julia,\n",
    "         n=IntSlider(min=50, max=2500, step=50, value=1000, description='Rozlišení'),\n",
    "         k=IntSlider(min=5, max=500, step=5, value=200, description='Iterace'),\n",
    "         c_real=FloatSlider(min=-2.5, max=2.5, step=0.01, value=-0.7, description='Realná část c'),\n",
    "         c_imag=FloatSlider(min=-2.5, max=2.5, step=0.01, value=0.27, description='Imag. část c'),\n",
    "         cmap=ToggleButtons(options=['hot', 'viridis', 'inferno', 'gray', 'turbo'], value='hot', description='Barevná mapa'),\n",
    "         x=FloatSlider(min=-2.0, max=2.0, step=0.01, value=0.0, description='Posun v x'),\n",
    "         y=FloatSlider(min=-2.0, max=2.0, step=0.01, value=0.0, description='Posun v y'),\n",
    "         zoom=FloatSlider(min=1.0, max=50.0, step=0.5, value=1.0, description='Priblížení'));\n",
    "         "
   ]
  }
 ],
 "metadata": {
  "kernelspec": {
   "display_name": "Python 3",
   "language": "python",
   "name": "python3"
  },
  "language_info": {
   "codemirror_mode": {
    "name": "ipython",
    "version": 3
   },
   "file_extension": ".py",
   "mimetype": "text/x-python",
   "name": "python",
   "nbconvert_exporter": "python",
   "pygments_lexer": "ipython3",
   "version": "3.10.12"
  }
 },
 "nbformat": 4,
 "nbformat_minor": 5
}
